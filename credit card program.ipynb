{
 "cells": [
  {
   "cell_type": "code",
   "execution_count": null,
   "metadata": {},
   "outputs": [
    {
     "name": "stdout",
     "output_type": "stream",
     "text": [
      "***************CREDIT CARD VALIDATION*****************\n"
     ]
    }
   ],
   "source": [
    "print(\"***************CREDIT CARD VALIDATION*****************\")\n",
    "\n",
    "ccno= int(input('please enter 16 digit cc number'))\n",
    "ccno1=str(ccno)\n",
    "if len(ccno1)==16:\n",
    "    print(\"the credit card is valid\")\n",
    "    print(\"**********************name *******************\")\n",
    "    name = input(\"please enter your name as per the bank records \").split()\n",
    "    print(\"first name \",name[0])\n",
    "    print(\"second name\",name[1])\n",
    "    validation_month()\n",
    "    \n",
    "        \n",
    "else:\n",
    "    print(\"the credit card is invalid\")"
   ]
  },
  {
   "cell_type": "code",
   "execution_count": 3,
   "metadata": {},
   "outputs": [],
   "source": [
    "def validation_month():\n",
    "    mm=int(input(\"please enter the expiry month \"))\n",
    "    if mm<1:\n",
    "        print(\"the month cannot be negative\")\n",
    "    elif(mm==0):\n",
    "        print(\"the month cannot be zero\")\n",
    "    elif(mm>1 & mm<=12):\n",
    "        print(\"the credit card is valid\")\n",
    "        validation_year()\n",
    "    else:\n",
    "        print(\"the card is invalid\")\n",
    "    "
   ]
  },
  {
   "cell_type": "code",
   "execution_count": 4,
   "metadata": {},
   "outputs": [],
   "source": [
    "def validation_year():\n",
    "    yyyy=int(input(\"please enter the year of expiry \"))\n",
    "    z=str(yyyy)\n",
    "    print(z)\n",
    "    if(len(z)==4):\n",
    "        if yyyy<2021:\n",
    "            print(\"the card is expired\")\n",
    "        elif(yyyy>=2021):\n",
    "            print(\"card is valid\")\n",
    "            validation_mob()\n",
    "    else:\n",
    "        print(\"try again \")\n",
    "    "
   ]
  },
  {
   "cell_type": "code",
   "execution_count": 5,
   "metadata": {},
   "outputs": [],
   "source": [
    "#otp and mobile number \n",
    "def validation_mob():\n",
    "    valid_cc_no={619:'Sanket'}\n",
    "    valid_cell_no={1234567890:'Sanket'}\n",
    "    cvv=int(input(\"please enter the cvv number \"))\n",
    "    if cvv in valid_cc_no:\n",
    "        print(\"cvv accepted\")\n",
    "        cell_no=int(input(\"enter the mobile number \"))\n",
    "        if cell_no in valid_cell_no:\n",
    "            print(\"OTP sent\")\n",
    "            import random\n",
    "            w=random.randint(1000,10000)\n",
    "            print(w)\n",
    "            print(\"please check and verify the otp\")\n",
    "        \n",
    "        else:\n",
    "            print(\"mobile no. is invalid\")\n",
    "    else:\n",
    "        print(\"cvv is not right\")"
   ]
  },
  {
   "cell_type": "code",
   "execution_count": null,
   "metadata": {},
   "outputs": [],
   "source": []
  }
 ],
 "metadata": {
  "kernelspec": {
   "display_name": "Python 3",
   "language": "python",
   "name": "python3"
  },
  "language_info": {
   "codemirror_mode": {
    "name": "ipython",
    "version": 3
   },
   "file_extension": ".py",
   "mimetype": "text/x-python",
   "name": "python",
   "nbconvert_exporter": "python",
   "pygments_lexer": "ipython3",
   "version": "3.8.5"
  }
 },
 "nbformat": 4,
 "nbformat_minor": 4
}
